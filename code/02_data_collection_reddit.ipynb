{
 "cells": [
  {
   "cell_type": "markdown",
   "metadata": {},
   "source": [
    "# Reddit API Query"
   ]
  },
  {
   "cell_type": "code",
   "execution_count": 66,
   "metadata": {},
   "outputs": [],
   "source": [
    "import requests\n",
    "import pandas as pd\n",
    "import datetime as dt\n",
    "import time\n",
    "import pickle\n",
    "import os\n",
    "import json\n",
    "import sys\n",
    "pd.set_option('display.max_columns', None)"
   ]
  },
  {
   "cell_type": "code",
   "execution_count": 67,
   "metadata": {},
   "outputs": [
    {
     "data": {
      "text/plain": [
       "{'project_module_relative_path': 'src'}"
      ]
     },
     "execution_count": 67,
     "metadata": {},
     "output_type": "execute_result"
    }
   ],
   "source": [
    "# load project config\n",
    "\n",
    "terminal_call = ! git rev-parse --show-toplevel\n",
    "repo_path=terminal_call[0]\n",
    "project_config_path = os.path.join(repo_path,'project_config.json')\n",
    "\n",
    "with open(project_config_path,'r') as fp: \n",
    "    project_config = json.load(fp)\n",
    "\n",
    "\n",
    "project_config"
   ]
  },
  {
   "cell_type": "code",
   "execution_count": 68,
   "metadata": {},
   "outputs": [],
   "source": [
    "# import custom scraper module\n",
    "\n",
    "module_path = os.path.join(repo_path,project_config['project_module_relative_path'])\n",
    "sys.path.append(module_path)\n",
    "\n",
    "import scraper\n",
    "from scraper import tweet_scraper\n",
    "\n",
    "from importlib import reload"
   ]
  },
  {
   "cell_type": "markdown",
   "metadata": {},
   "source": [
    "__Pulling data from these Reddit threads:__\n",
    "\n",
    "-[ukpolitics](https://www.reddit.com/r/ukpolitics/comments/6k6ykd/jeremycorbyn_monday_the_conservatives_spent_1/): Political news and debate concerning the United Kingdom.\n",
    "\n",
    "-[brexit](https://www.reddit.com/r/brexit/comments/hk4yj9/morals_of_brexit/): A place to debate and discuss the UK's exit from the European Union, including the negotiations for the future UK-EU relationship. Please debate general UK topics (non-brexit related) elsewhere, such as r/ukpolitics"
   ]
  },
  {
   "cell_type": "markdown",
   "metadata": {},
   "source": [
    "### 1. Query Reddit"
   ]
  },
  {
   "cell_type": "code",
   "execution_count": 53,
   "metadata": {},
   "outputs": [],
   "source": [
    "# custom function to query reddit multiple times\n",
    "# this code is adapted from Hovanes's codes that he shared in class\n",
    "\n",
    "def reddit_query(subreddit, n_samples, after):\n",
    "    base_url = 'https://api.pushshift.io/reddit/submission/search' # base url for api\n",
    "    list_posts = []\n",
    "    oldest_post = after\n",
    "    \n",
    "    while len(list_posts) < n_samples: # n_samples exceeds the reddit api limit of 1000\n",
    "        params = {\n",
    "            \"subreddit\" : subreddit,\n",
    "            \"size\" : 1000,\n",
    "            \"after\": oldest_post # a time stamp to set when to start pulling posts\n",
    "            }  \n",
    "            \n",
    "        res = requests.get(base_url,params) # request reddit info\n",
    "            \n",
    "        posts = res.json()['data'] # create list from json\n",
    "        \n",
    "        if len(posts) == 0:\n",
    "            onewest_post = after # for the first time running this, before will be None\n",
    "            list_posts.extend(posts) # add batch of posts to list_posts     \n",
    "        else:\n",
    "            time.sleep(3) # wait 3 seconds before querying again\n",
    "            newest_post = dt.datetime.fromtimestamp(posts[-1][\"created_utc\"]) # take the oldest time from the list and pull posts before that time\n",
    "            list_posts.extend(posts) # add batch of posts to list_posts\n",
    "    return pd.DataFrame(list_posts) # return pandas dataframe"
   ]
  },
  {
   "cell_type": "markdown",
   "metadata": {},
   "source": [
    "### Pull data for reddit threads:"
   ]
  },
  {
   "cell_type": "code",
   "execution_count": 93,
   "metadata": {},
   "outputs": [],
   "source": [
    "df = reddit_query(\"ukpolitics\", 10_000, \"2016-01-01\")"
   ]
  },
  {
   "cell_type": "code",
   "execution_count": 87,
   "metadata": {},
   "outputs": [],
   "source": [
    "df['created_utc'] = pd.to_datetime(df['created_utc'], unit='s')"
   ]
  },
  {
   "cell_type": "markdown",
   "metadata": {},
   "source": [
    "## Pickle for later use "
   ]
  },
  {
   "cell_type": "code",
   "execution_count": 88,
   "metadata": {},
   "outputs": [],
   "source": [
    "pickle.dump(df, open(\"../data/ukpolitics.pkl\", \"wb\"))"
   ]
  },
  {
   "cell_type": "markdown",
   "metadata": {},
   "source": [
    "## Clean text"
   ]
  },
  {
   "cell_type": "code",
   "execution_count": 89,
   "metadata": {},
   "outputs": [],
   "source": [
    "# Clean comments column\n",
    "df = tweet_scraper.clean_tweets(df, 'selftext')"
   ]
  },
  {
   "cell_type": "code",
   "execution_count": 90,
   "metadata": {},
   "outputs": [],
   "source": [
    "# write to csv\n",
    "df.to_csv(f\"../data/ukpolitics.csv\", index = False)"
   ]
  }
 ],
 "metadata": {
  "kernelspec": {
   "display_name": "Python 3",
   "language": "python",
   "name": "python3"
  },
  "language_info": {
   "codemirror_mode": {
    "name": "ipython",
    "version": 3
   },
   "file_extension": ".py",
   "mimetype": "text/x-python",
   "name": "python",
   "nbconvert_exporter": "python",
   "pygments_lexer": "ipython3",
   "version": "3.7.4"
  }
 },
 "nbformat": 4,
 "nbformat_minor": 2
}
